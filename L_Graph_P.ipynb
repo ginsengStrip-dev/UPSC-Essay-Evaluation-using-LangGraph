{
  "cells": [
    {
      "cell_type": "code",
      "execution_count": null,
      "metadata": {
        "id": "2YYyAkca8Jfn"
      },
      "outputs": [],
      "source": [
        "from huggingface_hub import login\n",
        "login(new_session=False)"
      ]
    },
    {
      "cell_type": "markdown",
      "metadata": {
        "id": "fQXp6MC2lOS0"
      },
      "source": [
        "# workflow\n",
        "......\n"
      ]
    },
    {
      "cell_type": "markdown",
      "metadata": {
        "id": "IXLtzTQxkgMm"
      },
      "source": [
        "![download.png](data:image/png;base64,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)"
      ]
    },
    {
      "cell_type": "markdown",
      "metadata": {
        "id": "7IqYl2dBkrq4"
      },
      "source": [
        "**Project Title: UPSC Essay Evaluation using LangGraph**"
      ]
    },
    {
      "cell_type": "code",
      "execution_count": null,
      "metadata": {
        "id": "0fr5mo3OCveD"
      },
      "outputs": [],
      "source": [
        "from langgraph.graph import StateGraph, START, END\n",
        "from typing import TypedDict, Annotated\n",
        "from pydantic import BaseModel, Field"
      ]
    },
    {
      "cell_type": "code",
      "execution_count": null,
      "metadata": {
        "id": "QqDrcix0UakU"
      },
      "outputs": [],
      "source": [
        "from transformers import AutoTokenizer, AutoModelForCausalLM\n",
        "import torch\n",
        "\n",
        "# Load model + tokenizer once\n",
        "tokenizer = AutoTokenizer.from_pretrained(\"google/gemma-3-270m-it\")\n",
        "model = AutoModelForCausalLM.from_pretrained(\"google/gemma-3-270m-it\")\n",
        "device = torch.device(\"cuda\" if torch.cuda.is_available() else \"cpu\")\n",
        "model.to(device)\n",
        "\n",
        "# Small helper so we can call model.invoke(prompt).content\n",
        "class HFChatModel:\n",
        "    def __init__(self, model, tokenizer, device):\n",
        "        self.model = model\n",
        "        self.tokenizer = tokenizer\n",
        "        self.device = device\n",
        "\n",
        "    def invoke(self, prompt: str):\n",
        "        messages = [\n",
        "            {\"role\": \"user\", \"content\": prompt},\n",
        "        ]\n",
        "        inputs = self.tokenizer.apply_chat_template(\n",
        "            messages,\n",
        "            add_generation_prompt=True,\n",
        "            tokenize=True,\n",
        "            return_dict=True,\n",
        "            return_tensors=\"pt\",\n",
        "        ).to(self.device)\n",
        "\n",
        "        outputs = self.model.generate(**inputs, max_new_tokens=300)\n",
        "        text = self.tokenizer.decode(\n",
        "            outputs[0][inputs[\"input_ids\"].shape[-1]:],\n",
        "            skip_special_tokens=True,\n",
        "        )\n",
        "        return type(\"Response\", (), {\"content\": text.strip()})\n",
        "\n",
        "# Wrap the huggingface model so it feels like your original one\n",
        "chat_model = HFChatModel(model, tokenizer, device)\n"
      ]
    },
    {
      "cell_type": "code",
      "execution_count": null,
      "metadata": {
        "id": "GPekTIuGSGmF"
      },
      "outputs": [],
      "source": [
        "import re\n",
        "import json\n",
        "from pydantic import BaseModel, Field, ValidationError\n",
        "\n",
        "class EvaluateS(BaseModel):\n",
        "    feedback: str = Field(description='Detailed feedback on essay')\n",
        "    score: float = Field(description='Score out of 10', ge=0, le=10)\n",
        "\n",
        "class StructuredModel:\n",
        "    def __init__(self, chat_model, schema: type[BaseModel]):\n",
        "        self.chat_model = chat_model\n",
        "        self.schema = schema\n",
        "\n",
        "    def invoke(self, prompt: str):\n",
        "        structured_prompt = (\n",
        "            f\"{prompt}\\n\\nRespond ONLY in JSON format with these fields:\\n\"\n",
        "            f\"- feedback (string): detailed feedback on the essay\\n\"\n",
        "            f\"- score (float, 0-10): score out of 10\"\n",
        "        )\n",
        "\n",
        "        response = self.chat_model.invoke(structured_prompt).content\n",
        "\n",
        "        # Extract the JSON object from the response\n",
        "        match = re.search(r\"({.*})\", response, flags=re.DOTALL)\n",
        "        if match:\n",
        "            json_text = match.group(1)\n",
        "            try:\n",
        "                data = json.loads(json_text)\n",
        "            except json.JSONDecodeError:\n",
        "                data = {\"feedback\": response, \"score\": 0.0}\n",
        "        else:\n",
        "            data = {\"feedback\": response, \"score\": 0.0}\n",
        "\n",
        "        # Ensure keys exist\n",
        "        if \"feedback\" not in data:\n",
        "            data[\"feedback\"] = response\n",
        "        if \"score\" not in data:\n",
        "            # Try to extract score from feedback text\n",
        "            score_match = re.search(r\"(\\d+(\\.\\d+)?)\\s*(?:out of 10)?\", data[\"feedback\"])\n",
        "            if score_match:\n",
        "                data[\"score\"] = float(score_match.group(1))\n",
        "            else:\n",
        "                data[\"score\"] = 0.0\n",
        "\n",
        "        # Validate using Pydantic\n",
        "        try:\n",
        "            validated = self.schema(**data)\n",
        "        except ValidationError:\n",
        "            validated = self.schema(feedback=data.get(\"feedback\", \"\"), score=data.get(\"score\", 0.0))\n",
        "\n",
        "        return validated\n"
      ]
    },
    {
      "cell_type": "markdown",
      "metadata": {
        "id": "XNCtK5sTWtre"
      },
      "source": []
    },
    {
      "cell_type": "code",
      "execution_count": null,
      "metadata": {
        "id": "ojZbNlQ9Wtdf"
      },
      "outputs": [],
      "source": [
        "essay = \"\"\"India in the Age of AI\n",
        "As the world enters a transformative era defined by artificial intelligence (AI), India stands at a critical juncture — one where it can either emerge as a global leader in AI innovation or risk falling behind in the technology race. The age of AI brings with it immense promise as well as unprecedented challenges, and how India navigates this landscape will shape its socio-economic and geopolitical future.\n",
        "\n",
        "India's strengths in the AI domain are rooted in its vast pool of skilled engineers, a thriving IT industry, and a growing startup ecosystem. With over 5 million STEM graduates annually and a burgeoning base of AI researchers, India possesses the intellectual capital required to build cutting-edge AI systems. Institutions like IITs, IIITs, and IISc have begun fostering AI research, while private players such as TCS, Infosys, and Wipro are integrating AI into their global services. In 2020, the government launched the National AI Strategy (AI for All) with a focus on inclusive growth, aiming to leverage AI in healthcare, agriculture, education, and smart mobility.\n",
        "\n",
        "One of the most promising applications of AI in India lies in agriculture, where predictive analytics can guide farmers on optimal sowing times, weather forecasts, and pest control. In healthcare, AI-powered diagnostics can help address India’s doctor-patient ratio crisis, particularly in rural areas. Educational platforms are increasingly using AI to personalize learning paths, while smart governance tools are helping improve public service delivery and fraud detection.\n",
        "\n",
        "However, the path to AI-led growth is riddled with challenges. Chief among them is the digital divide. While metropolitan cities may embrace AI-driven solutions, rural India continues to struggle with basic internet access and digital literacy. The risk of job displacement due to automation also looms large, especially for low-skilled workers. Without effective skilling and re-skilling programs, AI could exacerbate existing socio-economic inequalities.\n",
        "\n",
        "Another pressing concern is data privacy and ethics. As AI systems rely heavily on vast datasets, ensuring that personal data is used transparently and responsibly becomes vital. India is still shaping its data protection laws, and in the absence of a strong regulatory framework, AI systems may risk misuse or bias.\n",
        "\n",
        "To harness AI responsibly, India must adopt a multi-stakeholder approach involving the government, academia, industry, and civil society. Policies should promote open datasets, encourage responsible innovation, and ensure ethical AI practices. There is also a need for international collaboration, particularly with countries leading in AI research, to gain strategic advantage and ensure interoperability in global systems.\n",
        "\n",
        "India’s demographic dividend, when paired with responsible AI adoption, can unlock massive economic growth, improve governance, and uplift marginalized communities. But this vision will only materialize if AI is seen not merely as a tool for automation, but as an enabler of human-centered development.\n",
        "\n",
        "In conclusion, India in the age of AI is a story in the making — one of opportunity, responsibility, and transformation. The decisions we make today will not just determine India’s AI trajectory, but also its future as an inclusive, equitable, and innovation-driven society.\"\"\""
      ]
    },
    {
      "cell_type": "code",
      "execution_count": null,
      "metadata": {
        "id": "uS5S2RRoW4yO"
      },
      "outputs": [],
      "source": [
        "prompt = f\"\"\"\n",
        "Evaluate the clarity of thought in the following essay.\n",
        "Provide detailed feedback and assign a score out of 10.\n",
        "\n",
        "Essay:\n",
        "{essay}\n",
        "\"\"\"\n",
        "structured_model = StructuredModel(chat_model, EvaluateS)\n",
        "result = structured_model.invoke(prompt)\n",
        "\n",
        "print(\"Feedback:\", result.feedback)\n",
        "print(\"Score:\", result.score)"
      ]
    },
    {
      "cell_type": "code",
      "execution_count": null,
      "metadata": {
        "id": "QAtq4mSVY1LJ"
      },
      "outputs": [],
      "source": [
        "result.score"
      ]
    },
    {
      "cell_type": "code",
      "execution_count": null,
      "metadata": {
        "id": "3_Ua-LQ4Y_y9"
      },
      "outputs": [],
      "source": [
        "import operator\n",
        "from typing import TypedDict, Annotated\n",
        "\n",
        "class UPSCScores(TypedDict):\n",
        "    essay: str\n",
        "    language_feedback: str\n",
        "    clarity_feedback: str\n",
        "    analysis_feedback: str\n",
        "    overall_feedback: str\n",
        "    individual_scores: Annotated[list[float], operator.add]\n",
        "    average_score: float\n"
      ]
    },
    {
      "cell_type": "code",
      "execution_count": null,
      "metadata": {
        "id": "hOPslib9bWPc"
      },
      "outputs": [],
      "source": [
        "def language_feedback(state: UPSCScores) -> UPSCScores:\n",
        "    essay = state['essay']\n",
        "\n",
        "    prompt = f\"Evaluate the language quality of the following essay and provide feedback and assign a score out of 10:\\n{essay}\"\n",
        "\n",
        "    structured_model = StructuredModel(chat_model, EvaluateS)\n",
        "    result = structured_model.invoke(prompt)\n",
        "\n",
        "    language_feedback = result.feedback\n",
        "    individual_scores = [result.score]\n",
        "\n",
        "    return {'language_feedback': language_feedback, 'individual_scores': individual_scores}\n"
      ]
    },
    {
      "cell_type": "code",
      "execution_count": null,
      "metadata": {
        "id": "mZ-S5sVvcgsf"
      },
      "outputs": [],
      "source": [
        "def clarity_feedback(state: UPSCScores) -> UPSCScores:\n",
        "    essay = state['essay']\n",
        "\n",
        "    prompt = f\"\"\"Evaluate the clarity of thought in the following essay. Provide detailed feedback and assign a score out of 10. Essay: {essay}\"\"\"\n",
        "\n",
        "    structured_model = StructuredModel(chat_model, EvaluateS)\n",
        "    result = structured_model.invoke(prompt)\n",
        "\n",
        "    clarity_feedback = result.feedback\n",
        "    individual_scores = [result.score]\n",
        "\n",
        "    return {'clarity_feedback': clarity_feedback, 'individual_scores': individual_scores}\n"
      ]
    },
    {
      "cell_type": "code",
      "execution_count": null,
      "metadata": {
        "id": "yZCd_MtMc1DS"
      },
      "outputs": [],
      "source": [
        "def analysis_feedback(state: UPSCScores) -> UPSCScores:\n",
        "    essay = state['essay']\n",
        "\n",
        "    prompt = f\"\"\"Evaluate the depth of analysis in the following essay. Provide detailed feedback and assign a score out of 10. Essay:{essay}\"\"\"\n",
        "\n",
        "    structured_model = StructuredModel(chat_model, EvaluateS)\n",
        "    result = structured_model.invoke(prompt)\n",
        "\n",
        "    analysis_feedback = result.feedback\n",
        "    individual_scores = [result.score]\n",
        "\n",
        "    return {'analysis_feedback': analysis_feedback, 'individual_scores': individual_scores}\n"
      ]
    },
    {
      "cell_type": "code",
      "execution_count": null,
      "metadata": {
        "id": "iwyPdCvSdxGB"
      },
      "outputs": [],
      "source": [
        "def summary_feedback(state: UPSCScores) -> UPSCScores:\n",
        "    prompt = f\"\"\"Based on the following feedbacks, create a summarized feedback:\n",
        "    Language feedback - {state['language_feedback']}\n",
        "    Depth of analysis feedback - {state['analysis_feedback']}\n",
        "    Clarity of thought feedback - {state['clarity_feedback']}\"\"\"\n",
        "\n",
        "    result = chat_model.invoke(prompt).content\n",
        "\n",
        "    average_score = sum(state['individual_scores']) / len(state['individual_scores'])\n",
        "\n",
        "    return {'overall_feedback': result, 'average_score': average_score}\n"
      ]
    },
    {
      "cell_type": "code",
      "execution_count": null,
      "metadata": {
        "id": "74L5FIGSa74J"
      },
      "outputs": [],
      "source": [
        "graph = StateGraph(UPSCScores)\n",
        "graph.add_node('language_feedback', language_feedback)\n",
        "graph.add_node('clarity_feedback', clarity_feedback)\n",
        "graph.add_node('analysis_feedback', analysis_feedback)\n",
        "graph.add_node('summary_feedback', summary_feedback)\n",
        "\n",
        "graph.add_edge(START, 'language_feedback')\n",
        "graph.add_edge(START, 'clarity_feedback')\n",
        "graph.add_edge(START, 'analysis_feedback')\n",
        "graph.add_edge('language_feedback', 'summary_feedback')\n",
        "graph.add_edge('clarity_feedback', 'summary_feedback')\n",
        "graph.add_edge('analysis_feedback', 'summary_feedback')\n",
        "graph.add_edge('summary_feedback', END)\n",
        "\n",
        "workflow = graph.compile()\n"
      ]
    },
    {
      "cell_type": "code",
      "execution_count": null,
      "metadata": {
        "id": "SE-EQlJ1a_ix"
      },
      "outputs": [],
      "source": [
        "workflow"
      ]
    },
    {
      "cell_type": "code",
      "execution_count": null,
      "metadata": {
        "id": "_G66tViPfs79"
      },
      "outputs": [],
      "source": [
        "essay = \"\"\"India in the Age of AI\n",
        "As the world enters a transformative era defined by artificial intelligence (AI), India stands at a critical juncture — one where it can either emerge as a global leader in AI innovation or risk falling behind in the technology race. The age of AI brings with it immense promise as well as unprecedented challenges, and how India navigates this landscape will shape its socio-economic and geopolitical future.\n",
        "\n",
        "India's strengths in the AI domain are rooted in its vast pool of skilled engineers, a thriving IT industry, and a growing startup ecosystem. With over 5 million STEM graduates annually and a burgeoning base of AI researchers, India possesses the intellectual capital required to build cutting-edge AI systems. Institutions like IITs, IIITs, and IISc have begun fostering AI research, while private players such as TCS, Infosys, and Wipro are integrating AI into their global services. In 2020, the government launched the National AI Strategy (AI for All) with a focus on inclusive growth, aiming to leverage AI in healthcare, agriculture, education, and smart mobility.\n",
        "\n",
        "One of the most promising applications of AI in India lies in agriculture, where predictive analytics can guide farmers on optimal sowing times, weather forecasts, and pest control. In healthcare, AI-powered diagnostics can help address India’s doctor-patient ratio crisis, particularly in rural areas. Educational platforms are increasingly using AI to personalize learning paths, while smart governance tools are helping improve public service delivery and fraud detection.\n",
        "\n",
        "However, the path to AI-led growth is riddled with challenges. Chief among them is the digital divide. While metropolitan cities may embrace AI-driven solutions, rural India continues to struggle with basic internet access and digital literacy. The risk of job displacement due to automation also looms large, especially for low-skilled workers. Without effective skilling and re-skilling programs, AI could exacerbate existing socio-economic inequalities.\n",
        "\n",
        "Another pressing concern is data privacy and ethics. As AI systems rely heavily on vast datasets, ensuring that personal data is used transparently and responsibly becomes vital. India is still shaping its data protection laws, and in the absence of a strong regulatory framework, AI systems may risk misuse or bias.\n",
        "\n",
        "To harness AI responsibly, India must adopt a multi-stakeholder approach involving the government, academia, industry, and civil society. Policies should promote open datasets, encourage responsible innovation, and ensure ethical AI practices. There is also a need for international collaboration, particularly with countries leading in AI research, to gain strategic advantage and ensure interoperability in global systems.\n",
        "\n",
        "India’s demographic dividend, when paired with responsible AI adoption, can unlock massive economic growth, improve governance, and uplift marginalized communities. But this vision will only materialize if AI is seen not merely as a tool for automation, but as an enabler of human-centered development.\n",
        "\n",
        "In conclusion, India in the age of AI is a story in the making — one of opportunity, responsibility, and transformation. The decisions we make today will not just determine India’s AI trajectory, but also its future as an inclusive, equitable, and innovation-driven society.\"\"\""
      ]
    },
    {
      "cell_type": "code",
      "execution_count": null,
      "metadata": {
        "id": "BUO-H1MHfd9Q"
      },
      "outputs": [],
      "source": [
        "initial_state = {'essay': essay}"
      ]
    },
    {
      "cell_type": "code",
      "execution_count": null,
      "metadata": {
        "id": "e6NtWyiJfvXU"
      },
      "outputs": [],
      "source": [
        "final_state = workflow.invoke(initial_state)"
      ]
    },
    {
      "cell_type": "code",
      "execution_count": null,
      "metadata": {
        "id": "fByKMFGcf4Un"
      },
      "outputs": [],
      "source": [
        "print(final_state['language_feedback'])\n"
      ]
    },
    {
      "cell_type": "code",
      "execution_count": null,
      "metadata": {
        "id": "LMYKMOZLgSDz"
      },
      "outputs": [],
      "source": []
    }
  ],
  "metadata": {
    "accelerator": "GPU",
    "colab": {
      "gpuType": "T4",
      "provenance": []
    },
    "kernelspec": {
      "display_name": "Python 3",
      "name": "python3"
    },
    "language_info": {
      "name": "python"
    }
  },
  "nbformat": 4,
  "nbformat_minor": 0
}
